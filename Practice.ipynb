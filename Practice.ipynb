{
 "cells": [
  {
   "cell_type": "code",
   "execution_count": 2,
   "id": "8a98ef8a",
   "metadata": {},
   "outputs": [],
   "source": [
    "import spacy"
   ]
  },
  {
   "cell_type": "code",
   "execution_count": 3,
   "id": "0526ea80",
   "metadata": {},
   "outputs": [],
   "source": [
    "nlp = spacy.load('en_core_web_sm')"
   ]
  },
  {
   "cell_type": "code",
   "execution_count": 4,
   "id": "a91a7d7a",
   "metadata": {},
   "outputs": [],
   "source": [
    "text = \"Barack Obama was born in Hawaii and worked at Harvard.\"\n",
    "\n",
    "doc = nlp(text)"
   ]
  },
  {
   "cell_type": "code",
   "execution_count": 7,
   "id": "dc2f76fc",
   "metadata": {},
   "outputs": [
    {
     "data": {
      "text/plain": [
       "['Barack', 'Obama', 'bear', 'Hawaii', 'work', 'Harvard', '.']"
      ]
     },
     "execution_count": 7,
     "metadata": {},
     "output_type": "execute_result"
    }
   ],
   "source": [
    "tokens = [token.lemma_ for token in doc if not token.is_stop]\n",
    "\n",
    "tokens"
   ]
  },
  {
   "cell_type": "code",
   "execution_count": 8,
   "id": "920e134a",
   "metadata": {},
   "outputs": [
    {
     "name": "stdout",
     "output_type": "stream",
     "text": [
      "Barack Obama -> PERSON\n",
      "Hawaii -> GPE\n",
      "Harvard -> ORG\n"
     ]
    }
   ],
   "source": [
    "for ent in doc.ents:\n",
    "    print(f\"{ent.text} -> {ent.label_}\")"
   ]
  },
  {
   "cell_type": "code",
   "execution_count": 9,
   "id": "81184f6a",
   "metadata": {},
   "outputs": [
    {
     "name": "stdout",
     "output_type": "stream",
     "text": [
      "Angela Merkel -> PERSON\n",
      "Elon Musk -> PERSON\n",
      "Berlin -> GPE\n",
      "Monday -> DATE\n"
     ]
    }
   ],
   "source": [
    "doc = nlp(\"Angela Merkel met Elon Musk in Berlin on Monday.\")\n",
    "\n",
    "for ent in doc.ents:\n",
    "    print(f\"{ent.text} -> {ent.label_}\")"
   ]
  },
  {
   "cell_type": "code",
   "execution_count": 10,
   "id": "191ff716",
   "metadata": {},
   "outputs": [],
   "source": [
    "def mask(text):\n",
    "    doc = nlp(text)\n",
    "    masked = []\n",
    "    for token in doc:\n",
    "        if token.ent_type_:\n",
    "            masked.append(token.ent_type_)\n",
    "        else:\n",
    "            masked.append(token.text)\n",
    "    return \" \".join(masked)"
   ]
  },
  {
   "cell_type": "code",
   "execution_count": 11,
   "id": "8f75320d",
   "metadata": {},
   "outputs": [
    {
     "data": {
      "text/plain": [
       "'PERSON PERSON was born in GPE and worked at ORG .'"
      ]
     },
     "execution_count": 11,
     "metadata": {},
     "output_type": "execute_result"
    }
   ],
   "source": [
    "mask(text)"
   ]
  },
  {
   "cell_type": "code",
   "execution_count": null,
   "id": "dabffc2a",
   "metadata": {},
   "outputs": [],
   "source": []
  }
 ],
 "metadata": {
  "kernelspec": {
   "display_name": "Python 3 (ipykernel)",
   "language": "python",
   "name": "python3"
  },
  "language_info": {
   "codemirror_mode": {
    "name": "ipython",
    "version": 3
   },
   "file_extension": ".py",
   "mimetype": "text/x-python",
   "name": "python",
   "nbconvert_exporter": "python",
   "pygments_lexer": "ipython3",
   "version": "3.9.12"
  }
 },
 "nbformat": 4,
 "nbformat_minor": 5
}
