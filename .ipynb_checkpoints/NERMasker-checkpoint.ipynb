{
 "cells": [
  {
   "cell_type": "code",
   "execution_count": 1,
   "id": "a43c3c9e",
   "metadata": {},
   "outputs": [],
   "source": [
    "import pandas as pd"
   ]
  },
  {
   "cell_type": "code",
   "execution_count": 2,
   "id": "71308c4a",
   "metadata": {},
   "outputs": [
    {
     "data": {
      "text/html": [
       "<div>\n",
       "<style scoped>\n",
       "    .dataframe tbody tr th:only-of-type {\n",
       "        vertical-align: middle;\n",
       "    }\n",
       "\n",
       "    .dataframe tbody tr th {\n",
       "        vertical-align: top;\n",
       "    }\n",
       "\n",
       "    .dataframe thead th {\n",
       "        text-align: right;\n",
       "    }\n",
       "</style>\n",
       "<table border=\"1\" class=\"dataframe\">\n",
       "  <thead>\n",
       "    <tr style=\"text-align: right;\">\n",
       "      <th></th>\n",
       "      <th>link</th>\n",
       "      <th>headline</th>\n",
       "      <th>category</th>\n",
       "      <th>short_description</th>\n",
       "      <th>authors</th>\n",
       "      <th>date</th>\n",
       "    </tr>\n",
       "  </thead>\n",
       "  <tbody>\n",
       "    <tr>\n",
       "      <th>0</th>\n",
       "      <td>https://www.huffpost.com/entry/covid-boosters-...</td>\n",
       "      <td>Over 4 Million Americans Roll Up Sleeves For O...</td>\n",
       "      <td>U.S. NEWS</td>\n",
       "      <td>Health experts said it is too early to predict...</td>\n",
       "      <td>Carla K. Johnson, AP</td>\n",
       "      <td>2022-09-23</td>\n",
       "    </tr>\n",
       "    <tr>\n",
       "      <th>1</th>\n",
       "      <td>https://www.huffpost.com/entry/american-airlin...</td>\n",
       "      <td>American Airlines Flyer Charged, Banned For Li...</td>\n",
       "      <td>U.S. NEWS</td>\n",
       "      <td>He was subdued by passengers and crew when he ...</td>\n",
       "      <td>Mary Papenfuss</td>\n",
       "      <td>2022-09-23</td>\n",
       "    </tr>\n",
       "    <tr>\n",
       "      <th>2</th>\n",
       "      <td>https://www.huffpost.com/entry/funniest-tweets...</td>\n",
       "      <td>23 Of The Funniest Tweets About Cats And Dogs ...</td>\n",
       "      <td>COMEDY</td>\n",
       "      <td>\"Until you have a dog you don't understand wha...</td>\n",
       "      <td>Elyse Wanshel</td>\n",
       "      <td>2022-09-23</td>\n",
       "    </tr>\n",
       "    <tr>\n",
       "      <th>3</th>\n",
       "      <td>https://www.huffpost.com/entry/funniest-parent...</td>\n",
       "      <td>The Funniest Tweets From Parents This Week (Se...</td>\n",
       "      <td>PARENTING</td>\n",
       "      <td>\"Accidentally put grown-up toothpaste on my to...</td>\n",
       "      <td>Caroline Bologna</td>\n",
       "      <td>2022-09-23</td>\n",
       "    </tr>\n",
       "    <tr>\n",
       "      <th>4</th>\n",
       "      <td>https://www.huffpost.com/entry/amy-cooper-lose...</td>\n",
       "      <td>Woman Who Called Cops On Black Bird-Watcher Lo...</td>\n",
       "      <td>U.S. NEWS</td>\n",
       "      <td>Amy Cooper accused investment firm Franklin Te...</td>\n",
       "      <td>Nina Golgowski</td>\n",
       "      <td>2022-09-22</td>\n",
       "    </tr>\n",
       "  </tbody>\n",
       "</table>\n",
       "</div>"
      ],
      "text/plain": [
       "                                                link  \\\n",
       "0  https://www.huffpost.com/entry/covid-boosters-...   \n",
       "1  https://www.huffpost.com/entry/american-airlin...   \n",
       "2  https://www.huffpost.com/entry/funniest-tweets...   \n",
       "3  https://www.huffpost.com/entry/funniest-parent...   \n",
       "4  https://www.huffpost.com/entry/amy-cooper-lose...   \n",
       "\n",
       "                                            headline   category  \\\n",
       "0  Over 4 Million Americans Roll Up Sleeves For O...  U.S. NEWS   \n",
       "1  American Airlines Flyer Charged, Banned For Li...  U.S. NEWS   \n",
       "2  23 Of The Funniest Tweets About Cats And Dogs ...     COMEDY   \n",
       "3  The Funniest Tweets From Parents This Week (Se...  PARENTING   \n",
       "4  Woman Who Called Cops On Black Bird-Watcher Lo...  U.S. NEWS   \n",
       "\n",
       "                                   short_description               authors  \\\n",
       "0  Health experts said it is too early to predict...  Carla K. Johnson, AP   \n",
       "1  He was subdued by passengers and crew when he ...        Mary Papenfuss   \n",
       "2  \"Until you have a dog you don't understand wha...         Elyse Wanshel   \n",
       "3  \"Accidentally put grown-up toothpaste on my to...      Caroline Bologna   \n",
       "4  Amy Cooper accused investment firm Franklin Te...        Nina Golgowski   \n",
       "\n",
       "        date  \n",
       "0 2022-09-23  \n",
       "1 2022-09-23  \n",
       "2 2022-09-23  \n",
       "3 2022-09-23  \n",
       "4 2022-09-22  "
      ]
     },
     "execution_count": 2,
     "metadata": {},
     "output_type": "execute_result"
    }
   ],
   "source": [
    "df = pd.read_json(r\"News_Category_Dataset_v3.json\", lines=True)\n",
    "df.head()"
   ]
  },
  {
   "cell_type": "code",
   "execution_count": 3,
   "id": "0f75ac4b",
   "metadata": {},
   "outputs": [
    {
     "data": {
      "text/plain": [
       "(209527, 6)"
      ]
     },
     "execution_count": 3,
     "metadata": {},
     "output_type": "execute_result"
    }
   ],
   "source": [
    "df.shape"
   ]
  },
  {
   "cell_type": "code",
   "execution_count": 4,
   "id": "b635959d",
   "metadata": {},
   "outputs": [
    {
     "name": "stdout",
     "output_type": "stream",
     "text": [
      "<class 'pandas.core.frame.DataFrame'>\n",
      "RangeIndex: 209527 entries, 0 to 209526\n",
      "Data columns (total 6 columns):\n",
      " #   Column             Non-Null Count   Dtype         \n",
      "---  ------             --------------   -----         \n",
      " 0   link               209527 non-null  object        \n",
      " 1   headline           209527 non-null  object        \n",
      " 2   category           209527 non-null  object        \n",
      " 3   short_description  209527 non-null  object        \n",
      " 4   authors            209527 non-null  object        \n",
      " 5   date               209527 non-null  datetime64[ns]\n",
      "dtypes: datetime64[ns](1), object(5)\n",
      "memory usage: 9.6+ MB\n"
     ]
    }
   ],
   "source": [
    "df.info()"
   ]
  },
  {
   "cell_type": "code",
   "execution_count": 5,
   "id": "0ae8a387",
   "metadata": {},
   "outputs": [
    {
     "data": {
      "text/plain": [
       "link                 0.0\n",
       "headline             0.0\n",
       "category             0.0\n",
       "short_description    0.0\n",
       "authors              0.0\n",
       "date                 0.0\n",
       "dtype: float64"
      ]
     },
     "execution_count": 5,
     "metadata": {},
     "output_type": "execute_result"
    }
   ],
   "source": [
    "(df.isnull().sum()/len(df))*100"
   ]
  },
  {
   "cell_type": "code",
   "execution_count": 6,
   "id": "84c49bad",
   "metadata": {},
   "outputs": [
    {
     "data": {
      "text/plain": [
       "Index(['link', 'headline', 'category', 'short_description', 'authors', 'date'], dtype='object')"
      ]
     },
     "execution_count": 6,
     "metadata": {},
     "output_type": "execute_result"
    }
   ],
   "source": [
    "df.columns"
   ]
  },
  {
   "cell_type": "markdown",
   "id": "35f67c3d",
   "metadata": {},
   "source": [
    "We will apply masking on Headline, Short Description, and Authors"
   ]
  },
  {
   "cell_type": "code",
   "execution_count": 7,
   "id": "16df5d6c",
   "metadata": {},
   "outputs": [],
   "source": [
    "import spacy\n",
    "nlp = spacy.load('en_core_web_sm')"
   ]
  },
  {
   "cell_type": "code",
   "execution_count": 8,
   "id": "08b15411",
   "metadata": {},
   "outputs": [],
   "source": [
    "def mask(text):\n",
    "    doc = nlp(text)\n",
    "    masked = []\n",
    "    for token in doc:\n",
    "        if token.ent_type_:\n",
    "            masked.append(f\"[{token.ent_type_}]\")\n",
    "        else:\n",
    "            masked.append(token.text)\n",
    "    return \" \".join(masked)"
   ]
  },
  {
   "cell_type": "code",
   "execution_count": 9,
   "id": "9ad09c90",
   "metadata": {},
   "outputs": [],
   "source": [
    "df_sample = df.sample(10, random_state=42)"
   ]
  },
  {
   "cell_type": "code",
   "execution_count": 10,
   "id": "731e1fc5",
   "metadata": {},
   "outputs": [
    {
     "name": "stdout",
     "output_type": "stream",
     "text": [
      "Done with masking authors\n"
     ]
    }
   ],
   "source": [
    "try:\n",
    "    df_sample[\"masked_authors\"] = df_sample[\"authors\"].apply(mask)\n",
    "    print(\"Done with masking authors\")\n",
    "except Exception as e:\n",
    "    print(e)"
   ]
  },
  {
   "cell_type": "code",
   "execution_count": 11,
   "id": "1b2ea860",
   "metadata": {},
   "outputs": [
    {
     "data": {
      "text/html": [
       "<div>\n",
       "<style scoped>\n",
       "    .dataframe tbody tr th:only-of-type {\n",
       "        vertical-align: middle;\n",
       "    }\n",
       "\n",
       "    .dataframe tbody tr th {\n",
       "        vertical-align: top;\n",
       "    }\n",
       "\n",
       "    .dataframe thead th {\n",
       "        text-align: right;\n",
       "    }\n",
       "</style>\n",
       "<table border=\"1\" class=\"dataframe\">\n",
       "  <thead>\n",
       "    <tr style=\"text-align: right;\">\n",
       "      <th></th>\n",
       "      <th>masked_authors</th>\n",
       "      <th>authors</th>\n",
       "    </tr>\n",
       "  </thead>\n",
       "  <tbody>\n",
       "    <tr>\n",
       "      <th>128310</th>\n",
       "      <td>[PERSON] [PERSON] , [ORG] , [NORP] / Chief Cur...</td>\n",
       "      <td>Matt Murrie, ContributorEdupreneur, Cofounder/...</td>\n",
       "    </tr>\n",
       "    <tr>\n",
       "      <th>139983</th>\n",
       "      <td></td>\n",
       "      <td></td>\n",
       "    </tr>\n",
       "    <tr>\n",
       "      <th>42339</th>\n",
       "      <td>[ORG] [ORG] [ORG] [ORG] [ORG] , [ORG] [ORG] [ORG]</td>\n",
       "      <td>Michael McLaughlin &amp; Josh Morgan, The Huffingt...</td>\n",
       "    </tr>\n",
       "    <tr>\n",
       "      <th>131494</th>\n",
       "      <td></td>\n",
       "      <td></td>\n",
       "    </tr>\n",
       "    <tr>\n",
       "      <th>163649</th>\n",
       "      <td>[PERSON] [PERSON]</td>\n",
       "      <td>Melissa Cronin</td>\n",
       "    </tr>\n",
       "  </tbody>\n",
       "</table>\n",
       "</div>"
      ],
      "text/plain": [
       "                                           masked_authors  \\\n",
       "128310  [PERSON] [PERSON] , [ORG] , [NORP] / Chief Cur...   \n",
       "139983                                                      \n",
       "42339   [ORG] [ORG] [ORG] [ORG] [ORG] , [ORG] [ORG] [ORG]   \n",
       "131494                                                      \n",
       "163649                                  [PERSON] [PERSON]   \n",
       "\n",
       "                                                  authors  \n",
       "128310  Matt Murrie, ContributorEdupreneur, Cofounder/...  \n",
       "139983                                                     \n",
       "42339   Michael McLaughlin & Josh Morgan, The Huffingt...  \n",
       "131494                                                     \n",
       "163649                                     Melissa Cronin  "
      ]
     },
     "execution_count": 11,
     "metadata": {},
     "output_type": "execute_result"
    }
   ],
   "source": [
    "df_sample[[\"masked_authors\", \"authors\"]].head()"
   ]
  },
  {
   "cell_type": "code",
   "execution_count": 12,
   "id": "f060a4e7",
   "metadata": {},
   "outputs": [
    {
     "name": "stdout",
     "output_type": "stream",
     "text": [
      "Done with masking headline\n"
     ]
    }
   ],
   "source": [
    "try:\n",
    "    df_sample[\"masked_headline\"] = df_sample[\"headline\"].apply(mask)\n",
    "    print(\"Done with masking headline\")\n",
    "except Exception as e:\n",
    "    print(e)"
   ]
  },
  {
   "cell_type": "code",
   "execution_count": 13,
   "id": "d9b122ef",
   "metadata": {},
   "outputs": [
    {
     "data": {
      "text/html": [
       "<div>\n",
       "<style scoped>\n",
       "    .dataframe tbody tr th:only-of-type {\n",
       "        vertical-align: middle;\n",
       "    }\n",
       "\n",
       "    .dataframe tbody tr th {\n",
       "        vertical-align: top;\n",
       "    }\n",
       "\n",
       "    .dataframe thead th {\n",
       "        text-align: right;\n",
       "    }\n",
       "</style>\n",
       "<table border=\"1\" class=\"dataframe\">\n",
       "  <thead>\n",
       "    <tr style=\"text-align: right;\">\n",
       "      <th></th>\n",
       "      <th>masked_headline</th>\n",
       "      <th>headline</th>\n",
       "    </tr>\n",
       "  </thead>\n",
       "  <tbody>\n",
       "    <tr>\n",
       "      <th>128310</th>\n",
       "      <td>What If We Were All Family Generation Changers ?</td>\n",
       "      <td>What If We Were All Family Generation Changers?</td>\n",
       "    </tr>\n",
       "    <tr>\n",
       "      <th>139983</th>\n",
       "      <td>Firestorm At [ORG] [ORG] [ORG] [ORG] [ORG]</td>\n",
       "      <td>Firestorm At AOL Over Employee Benefit Cuts</td>\n",
       "    </tr>\n",
       "    <tr>\n",
       "      <th>42339</th>\n",
       "      <td>[ORG] [ORG] [ORG] [ORG] As Deadline Passes To ...</td>\n",
       "      <td>Dakota Access Protesters Arrested As Deadline ...</td>\n",
       "    </tr>\n",
       "    <tr>\n",
       "      <th>131494</th>\n",
       "      <td>[CARDINAL] Glimpse Of These Baby Kit Foxes And...</td>\n",
       "      <td>One Glimpse Of These Baby Kit Foxes And You'll...</td>\n",
       "    </tr>\n",
       "    <tr>\n",
       "      <th>163649</th>\n",
       "      <td>[ORG] [ORG] [ORG] [ORG] [ORG] [ORG] [ORG] [ORG...</td>\n",
       "      <td>Mens' Sweat Pheromone, Androstadienone, Influe...</td>\n",
       "    </tr>\n",
       "  </tbody>\n",
       "</table>\n",
       "</div>"
      ],
      "text/plain": [
       "                                          masked_headline  \\\n",
       "128310   What If We Were All Family Generation Changers ?   \n",
       "139983         Firestorm At [ORG] [ORG] [ORG] [ORG] [ORG]   \n",
       "42339   [ORG] [ORG] [ORG] [ORG] As Deadline Passes To ...   \n",
       "131494  [CARDINAL] Glimpse Of These Baby Kit Foxes And...   \n",
       "163649  [ORG] [ORG] [ORG] [ORG] [ORG] [ORG] [ORG] [ORG...   \n",
       "\n",
       "                                                 headline  \n",
       "128310    What If We Were All Family Generation Changers?  \n",
       "139983        Firestorm At AOL Over Employee Benefit Cuts  \n",
       "42339   Dakota Access Protesters Arrested As Deadline ...  \n",
       "131494  One Glimpse Of These Baby Kit Foxes And You'll...  \n",
       "163649  Mens' Sweat Pheromone, Androstadienone, Influe...  "
      ]
     },
     "execution_count": 13,
     "metadata": {},
     "output_type": "execute_result"
    }
   ],
   "source": [
    "df_sample[[\"masked_headline\", \"headline\"]].head()"
   ]
  },
  {
   "cell_type": "code",
   "execution_count": 14,
   "id": "7215453b",
   "metadata": {},
   "outputs": [
    {
     "name": "stdout",
     "output_type": "stream",
     "text": [
      "Done with masking description\n"
     ]
    }
   ],
   "source": [
    "try:\n",
    "    df_sample[\"masked_description\"] = df_sample[\"short_description\"].apply(mask)\n",
    "    print(\"Done with masking description\")\n",
    "except Exception as e:\n",
    "    print(e)"
   ]
  },
  {
   "cell_type": "code",
   "execution_count": 15,
   "id": "7507350c",
   "metadata": {},
   "outputs": [
    {
     "data": {
      "text/html": [
       "<div>\n",
       "<style scoped>\n",
       "    .dataframe tbody tr th:only-of-type {\n",
       "        vertical-align: middle;\n",
       "    }\n",
       "\n",
       "    .dataframe tbody tr th {\n",
       "        vertical-align: top;\n",
       "    }\n",
       "\n",
       "    .dataframe thead th {\n",
       "        text-align: right;\n",
       "    }\n",
       "</style>\n",
       "<table border=\"1\" class=\"dataframe\">\n",
       "  <thead>\n",
       "    <tr style=\"text-align: right;\">\n",
       "      <th></th>\n",
       "      <th>masked_description</th>\n",
       "      <th>short_description</th>\n",
       "    </tr>\n",
       "  </thead>\n",
       "  <tbody>\n",
       "    <tr>\n",
       "      <th>128310</th>\n",
       "      <td>What if , in doing so , we wo n't just create ...</td>\n",
       "      <td>What if, in doing so, we won't just create new...</td>\n",
       "    </tr>\n",
       "    <tr>\n",
       "      <th>139983</th>\n",
       "      <td>It should have been [DATE] [DATE] [DATE] for [...</td>\n",
       "      <td>It should have been a glorious week for AOL ch...</td>\n",
       "    </tr>\n",
       "    <tr>\n",
       "      <th>42339</th>\n",
       "      <td>A few protesters who refused to leave remained...</td>\n",
       "      <td>A few protesters who refused to leave remained...</td>\n",
       "    </tr>\n",
       "    <tr>\n",
       "      <th>131494</th>\n",
       "      <td></td>\n",
       "      <td></td>\n",
       "    </tr>\n",
       "    <tr>\n",
       "      <th>163649</th>\n",
       "      <td>Scientists did n't know if humans played that ...</td>\n",
       "      <td>Scientists didn't know if humans played that g...</td>\n",
       "    </tr>\n",
       "  </tbody>\n",
       "</table>\n",
       "</div>"
      ],
      "text/plain": [
       "                                       masked_description  \\\n",
       "128310  What if , in doing so , we wo n't just create ...   \n",
       "139983  It should have been [DATE] [DATE] [DATE] for [...   \n",
       "42339   A few protesters who refused to leave remained...   \n",
       "131494                                                      \n",
       "163649  Scientists did n't know if humans played that ...   \n",
       "\n",
       "                                        short_description  \n",
       "128310  What if, in doing so, we won't just create new...  \n",
       "139983  It should have been a glorious week for AOL ch...  \n",
       "42339   A few protesters who refused to leave remained...  \n",
       "131494                                                     \n",
       "163649  Scientists didn't know if humans played that g...  "
      ]
     },
     "execution_count": 15,
     "metadata": {},
     "output_type": "execute_result"
    }
   ],
   "source": [
    "df_sample[[\"masked_description\", \"short_description\"]].head()"
   ]
  },
  {
   "cell_type": "code",
   "execution_count": 16,
   "id": "b781a98d",
   "metadata": {},
   "outputs": [
    {
     "data": {
      "text/html": [
       "<div>\n",
       "<style scoped>\n",
       "    .dataframe tbody tr th:only-of-type {\n",
       "        vertical-align: middle;\n",
       "    }\n",
       "\n",
       "    .dataframe tbody tr th {\n",
       "        vertical-align: top;\n",
       "    }\n",
       "\n",
       "    .dataframe thead th {\n",
       "        text-align: right;\n",
       "    }\n",
       "</style>\n",
       "<table border=\"1\" class=\"dataframe\">\n",
       "  <thead>\n",
       "    <tr style=\"text-align: right;\">\n",
       "      <th></th>\n",
       "      <th>link</th>\n",
       "      <th>headline</th>\n",
       "      <th>category</th>\n",
       "      <th>short_description</th>\n",
       "      <th>authors</th>\n",
       "      <th>date</th>\n",
       "      <th>masked_authors</th>\n",
       "      <th>masked_headline</th>\n",
       "      <th>masked_description</th>\n",
       "    </tr>\n",
       "  </thead>\n",
       "  <tbody>\n",
       "    <tr>\n",
       "      <th>128310</th>\n",
       "      <td>https://www.huffingtonpost.com/entry/what-if-w...</td>\n",
       "      <td>What If We Were All Family Generation Changers?</td>\n",
       "      <td>IMPACT</td>\n",
       "      <td>What if, in doing so, we won't just create new...</td>\n",
       "      <td>Matt Murrie, ContributorEdupreneur, Cofounder/...</td>\n",
       "      <td>2014-06-20</td>\n",
       "      <td>[PERSON] [PERSON] , [ORG] , [NORP] / Chief Cur...</td>\n",
       "      <td>What If We Were All Family Generation Changers ?</td>\n",
       "      <td>What if , in doing so , we wo n't just create ...</td>\n",
       "    </tr>\n",
       "    <tr>\n",
       "      <th>139983</th>\n",
       "      <td>https://www.huffingtonpost.comhttp://www.washi...</td>\n",
       "      <td>Firestorm At AOL Over Employee Benefit Cuts</td>\n",
       "      <td>BUSINESS</td>\n",
       "      <td>It should have been a glorious week for AOL ch...</td>\n",
       "      <td></td>\n",
       "      <td>2014-02-08</td>\n",
       "      <td></td>\n",
       "      <td>Firestorm At [ORG] [ORG] [ORG] [ORG] [ORG]</td>\n",
       "      <td>It should have been [DATE] [DATE] [DATE] for [...</td>\n",
       "    </tr>\n",
       "    <tr>\n",
       "      <th>42339</th>\n",
       "      <td>https://www.huffingtonpost.com/entry/time-runs...</td>\n",
       "      <td>Dakota Access Protesters Arrested As Deadline ...</td>\n",
       "      <td>POLITICS</td>\n",
       "      <td>A few protesters who refused to leave remained...</td>\n",
       "      <td>Michael McLaughlin &amp; Josh Morgan, The Huffingt...</td>\n",
       "      <td>2017-02-22</td>\n",
       "      <td>[ORG] [ORG] [ORG] [ORG] [ORG] , [ORG] [ORG] [ORG]</td>\n",
       "      <td>[ORG] [ORG] [ORG] [ORG] As Deadline Passes To ...</td>\n",
       "      <td>A few protesters who refused to leave remained...</td>\n",
       "    </tr>\n",
       "    <tr>\n",
       "      <th>131494</th>\n",
       "      <td>https://www.huffingtonpost.com/entry/one-glimp...</td>\n",
       "      <td>One Glimpse Of These Baby Kit Foxes And You'll...</td>\n",
       "      <td>GREEN</td>\n",
       "      <td></td>\n",
       "      <td></td>\n",
       "      <td>2014-05-14</td>\n",
       "      <td></td>\n",
       "      <td>[CARDINAL] Glimpse Of These Baby Kit Foxes And...</td>\n",
       "      <td></td>\n",
       "    </tr>\n",
       "    <tr>\n",
       "      <th>163649</th>\n",
       "      <td>https://www.huffingtonpost.com/entry/mens-swea...</td>\n",
       "      <td>Mens' Sweat Pheromone, Androstadienone, Influe...</td>\n",
       "      <td>SCIENCE</td>\n",
       "      <td>Scientists didn't know if humans played that g...</td>\n",
       "      <td>Melissa Cronin</td>\n",
       "      <td>2013-06-02</td>\n",
       "      <td>[PERSON] [PERSON]</td>\n",
       "      <td>[ORG] [ORG] [ORG] [ORG] [ORG] [ORG] [ORG] [ORG...</td>\n",
       "      <td>Scientists did n't know if humans played that ...</td>\n",
       "    </tr>\n",
       "  </tbody>\n",
       "</table>\n",
       "</div>"
      ],
      "text/plain": [
       "                                                     link  \\\n",
       "128310  https://www.huffingtonpost.com/entry/what-if-w...   \n",
       "139983  https://www.huffingtonpost.comhttp://www.washi...   \n",
       "42339   https://www.huffingtonpost.com/entry/time-runs...   \n",
       "131494  https://www.huffingtonpost.com/entry/one-glimp...   \n",
       "163649  https://www.huffingtonpost.com/entry/mens-swea...   \n",
       "\n",
       "                                                 headline  category  \\\n",
       "128310    What If We Were All Family Generation Changers?    IMPACT   \n",
       "139983        Firestorm At AOL Over Employee Benefit Cuts  BUSINESS   \n",
       "42339   Dakota Access Protesters Arrested As Deadline ...  POLITICS   \n",
       "131494  One Glimpse Of These Baby Kit Foxes And You'll...     GREEN   \n",
       "163649  Mens' Sweat Pheromone, Androstadienone, Influe...   SCIENCE   \n",
       "\n",
       "                                        short_description  \\\n",
       "128310  What if, in doing so, we won't just create new...   \n",
       "139983  It should have been a glorious week for AOL ch...   \n",
       "42339   A few protesters who refused to leave remained...   \n",
       "131494                                                      \n",
       "163649  Scientists didn't know if humans played that g...   \n",
       "\n",
       "                                                  authors       date  \\\n",
       "128310  Matt Murrie, ContributorEdupreneur, Cofounder/... 2014-06-20   \n",
       "139983                                                    2014-02-08   \n",
       "42339   Michael McLaughlin & Josh Morgan, The Huffingt... 2017-02-22   \n",
       "131494                                                    2014-05-14   \n",
       "163649                                     Melissa Cronin 2013-06-02   \n",
       "\n",
       "                                           masked_authors  \\\n",
       "128310  [PERSON] [PERSON] , [ORG] , [NORP] / Chief Cur...   \n",
       "139983                                                      \n",
       "42339   [ORG] [ORG] [ORG] [ORG] [ORG] , [ORG] [ORG] [ORG]   \n",
       "131494                                                      \n",
       "163649                                  [PERSON] [PERSON]   \n",
       "\n",
       "                                          masked_headline  \\\n",
       "128310   What If We Were All Family Generation Changers ?   \n",
       "139983         Firestorm At [ORG] [ORG] [ORG] [ORG] [ORG]   \n",
       "42339   [ORG] [ORG] [ORG] [ORG] As Deadline Passes To ...   \n",
       "131494  [CARDINAL] Glimpse Of These Baby Kit Foxes And...   \n",
       "163649  [ORG] [ORG] [ORG] [ORG] [ORG] [ORG] [ORG] [ORG...   \n",
       "\n",
       "                                       masked_description  \n",
       "128310  What if , in doing so , we wo n't just create ...  \n",
       "139983  It should have been [DATE] [DATE] [DATE] for [...  \n",
       "42339   A few protesters who refused to leave remained...  \n",
       "131494                                                     \n",
       "163649  Scientists did n't know if humans played that ...  "
      ]
     },
     "execution_count": 16,
     "metadata": {},
     "output_type": "execute_result"
    }
   ],
   "source": [
    "df_sample.head()"
   ]
  },
  {
   "cell_type": "code",
   "execution_count": 19,
   "id": "b5730ad3",
   "metadata": {},
   "outputs": [],
   "source": [
    "def display_comparison(index):\n",
    "    print(\"🔹 ORIGINAL TEXT:\\n\")\n",
    "    print(f\"📰 Headline         : {df_sample.loc[index, 'headline']}\")\n",
    "    print(f\"📄 Description      : {df_sample.loc[index, 'short_description']}\")\n",
    "    print(f\"✍️  Authors          : {df_sample.loc[index, 'authors']}\")\n",
    "    \n",
    "    print(\"\\n🔒 MASKED TEXT:\\n\")\n",
    "    print(f\"📰 Headline         : {df_sample.loc[index, 'masked_headline']}\")\n",
    "    print(f\"📄 Description      : {df_sample.loc[index, 'masked_description']}\")\n",
    "    print(f\"✍️  Authors          : {df_sample.loc[index, 'masked_authors']}\")\n"
   ]
  },
  {
   "cell_type": "code",
   "execution_count": 22,
   "id": "f453d7df",
   "metadata": {},
   "outputs": [
    {
     "name": "stdout",
     "output_type": "stream",
     "text": [
      "🔹 ORIGINAL TEXT:\n",
      "\n",
      "📰 Headline         : Firestorm At AOL Over Employee Benefit Cuts\n",
      "📄 Description      : It should have been a glorious week for AOL chief executive Tim Armstrong. His company’s quarterly earnings, announced Thursday\n",
      "✍️  Authors          : \n",
      "\n",
      "🔒 MASKED TEXT:\n",
      "\n",
      "📰 Headline         : Firestorm At [ORG] [ORG] [ORG] [ORG] [ORG]\n",
      "📄 Description      : It should have been [DATE] [DATE] [DATE] for [ORG] chief executive [PERSON] [PERSON] . His company ’s [DATE] earnings , announced [DATE]\n",
      "✍️  Authors          : \n"
     ]
    }
   ],
   "source": [
    "display_comparison(139983)"
   ]
  },
  {
   "cell_type": "code",
   "execution_count": null,
   "id": "5247a3e8",
   "metadata": {},
   "outputs": [],
   "source": []
  }
 ],
 "metadata": {
  "kernelspec": {
   "display_name": "Python 3 (ipykernel)",
   "language": "python",
   "name": "python3"
  },
  "language_info": {
   "codemirror_mode": {
    "name": "ipython",
    "version": 3
   },
   "file_extension": ".py",
   "mimetype": "text/x-python",
   "name": "python",
   "nbconvert_exporter": "python",
   "pygments_lexer": "ipython3",
   "version": "3.9.12"
  }
 },
 "nbformat": 4,
 "nbformat_minor": 5
}
